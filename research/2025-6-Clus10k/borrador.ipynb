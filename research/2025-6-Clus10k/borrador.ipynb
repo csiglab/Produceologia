{
 "cells": [
  {
   "cell_type": "markdown",
   "metadata": {},
   "source": [
    "# Semantic Clustering of Corporate Business Profiles Extracted from Form 10-K Reports"
   ]
  },
  {
   "cell_type": "markdown",
   "metadata": {},
   "source": [
    "* **Clean Text**: Remove HTML tags, punctuation, special characters, and normalize whitespace.\n",
    "* **Lowercase**: Convert all text to lowercase.\n",
    "* **Stopwords Removal**: Remove common English stopwords (e.g., “the”, “and”, “of”).\n",
    "* **Tokenization**: Split text into words or meaningful n-grams.\n",
    "* **Stemming/Lemmatization**: Reduce words to their root forms (optional)."
   ]
  },
  {
   "cell_type": "code",
   "execution_count": 11,
   "metadata": {},
   "outputs": [],
   "source": [
    "import spacy\n",
    "from rich import print"
   ]
  },
  {
   "cell_type": "code",
   "execution_count": 20,
   "metadata": {},
   "outputs": [],
   "source": [
    "## python -m spacy download en_core_web_lg\n",
    "## python -m spacy validate\n",
    "\n",
    "# Load English model\n",
    "# nlp = spacy.load(\"en_core_web_sm\")\n",
    "nlp = spacy.load(\"en_core_web_trf\")"
   ]
  },
  {
   "cell_type": "code",
   "execution_count": 21,
   "metadata": {},
   "outputs": [],
   "source": [
    "text  = 'Asana is an enterprise work management software platform that unifies cross-functional teams so businesses can effectively set and track goals, drive strategic initiatives, and manage work effectively. Over 169,000 paying customers across 200 countries and territories use Asana to connect their work to company goals and orchestrate mission-critical workflows like product launches, employee onboarding, resource planning, tracking company-wide strategic initiatives and more. Our secure and scalable platform with AI-powered features adds structure to unstructured work, creating clarity, accountability, and impact for everyone within an organization—executives, department heads, team leads, and individuals. In Asana, everyone understands who is doing what, by when, how and why.'"
   ]
  },
  {
   "cell_type": "code",
   "execution_count": 22,
   "metadata": {},
   "outputs": [],
   "source": [
    "# Process text\n",
    "doc = nlp(text)"
   ]
  },
  {
   "cell_type": "code",
   "execution_count": 23,
   "metadata": {},
   "outputs": [
    {
     "name": "stdout",
     "output_type": "stream",
     "text": [
      "Asana → Asana\n",
      "is → be\n",
      "an → an\n",
      "enterprise → enterprise\n",
      "work → work\n",
      "management → management\n",
      "software → software\n",
      "platform → platform\n",
      "that → that\n",
      "unifies → unify\n",
      "cross → cross\n",
      "- → -\n",
      "functional → functional\n",
      "teams → team\n",
      "so → so\n",
      "businesses → business\n",
      "can → can\n",
      "effectively → effectively\n",
      "set → set\n",
      "and → and\n",
      "track → track\n",
      "goals → goal\n",
      ", → ,\n",
      "drive → drive\n",
      "strategic → strategic\n",
      "initiatives → initiative\n",
      ", → ,\n",
      "and → and\n",
      "manage → manage\n",
      "work → work\n",
      "effectively → effectively\n",
      ". → .\n",
      "Over → over\n",
      "169,000 → 169,000\n",
      "paying → pay\n",
      "customers → customer\n",
      "across → across\n",
      "200 → 200\n",
      "countries → country\n",
      "and → and\n",
      "territories → territory\n",
      "use → use\n",
      "Asana → Asana\n",
      "to → to\n",
      "connect → connect\n",
      "their → their\n",
      "work → work\n",
      "to → to\n",
      "company → company\n",
      "goals → goal\n",
      "and → and\n",
      "orchestrate → orchestrate\n",
      "mission → mission\n",
      "- → -\n",
      "critical → critical\n",
      "workflows → workflow\n",
      "like → like\n",
      "product → product\n",
      "launches → launch\n",
      ", → ,\n",
      "employee → employee\n",
      "onboarding → onboarding\n",
      ", → ,\n",
      "resource → resource\n",
      "planning → planning\n",
      ", → ,\n",
      "tracking → track\n",
      "company → company\n",
      "- → -\n",
      "wide → wide\n",
      "strategic → strategic\n",
      "initiatives → initiative\n",
      "and → and\n",
      "more → more\n",
      ". → .\n",
      "Our → our\n",
      "secure → secure\n",
      "and → and\n",
      "scalable → scalable\n",
      "platform → platform\n",
      "with → with\n",
      "AI → ai\n",
      "- → -\n",
      "powered → power\n",
      "features → feature\n",
      "adds → add\n",
      "structure → structure\n",
      "to → to\n",
      "unstructured → unstructured\n",
      "work → work\n",
      ", → ,\n",
      "creating → create\n",
      "clarity → clarity\n",
      ", → ,\n",
      "accountability → accountability\n",
      ", → ,\n",
      "and → and\n",
      "impact → impact\n",
      "for → for\n",
      "everyone → everyone\n",
      "within → within\n",
      "an → an\n",
      "organization → organization\n",
      "— → —\n",
      "executives → executive\n",
      ", → ,\n",
      "department → department\n",
      "heads → head\n",
      ", → ,\n",
      "team → team\n",
      "leads → lead\n",
      ", → ,\n",
      "and → and\n",
      "individuals → individual\n",
      ". → .\n",
      "In → in\n",
      "Asana → Asana\n",
      ", → ,\n",
      "everyone → everyone\n",
      "understands → understand\n",
      "who → who\n",
      "is → be\n",
      "doing → do\n",
      "what → what\n",
      ", → ,\n",
      "by → by\n",
      "when → when\n",
      ", → ,\n",
      "how → how\n",
      "and → and\n",
      "why → why\n",
      ". → .\n"
     ]
    }
   ],
   "source": [
    "# Remove stopwords\n",
    "# filtered_tokens = [token.text for token in doc if not token.is_stop and not token.is_punct]\n",
    "# doc.to_json()\n",
    "# print(filtered_tokens)\n",
    "\n",
    "for token in doc:\n",
    "    print(f\"{token.text} → {token.lemma_}\")\n"
   ]
  },
  {
   "cell_type": "markdown",
   "metadata": {},
   "source": [
    "* **TF-IDF Vectorization**: Convert text into numerical vectors capturing term frequency and inverse document frequency — emphasizes important words.\n",
    "* **Word Embeddings**: Use pretrained models (e.g., Word2Vec, GloVe, or transformers like BERT) to create dense vector representations that capture semantic meaning.\n",
    "* **Domain Keywords**: Optionally, use domain-specific dictionaries or extract key phrases (e.g., “software”, “cloud services”, “pharmaceuticals”)."
   ]
  },
  {
   "cell_type": "code",
   "execution_count": 24,
   "metadata": {},
   "outputs": [],
   "source": [
    "import spacy\n",
    "nlp = spacy.load(\"en_core_web_trf\")"
   ]
  },
  {
   "cell_type": "code",
   "execution_count": 25,
   "metadata": {},
   "outputs": [],
   "source": [
    "doc = nlp(\"Apple is looking at buying U.K. startup for $1 billion.\")"
   ]
  },
  {
   "cell_type": "code",
   "execution_count": 26,
   "metadata": {},
   "outputs": [
    {
     "name": "stdout",
     "output_type": "stream",
     "text": [
      "Apple []\n",
      "is []\n",
      "looking []\n",
      "at []\n",
      "buying []\n",
      "U.K. []\n",
      "startup []\n",
      "for []\n",
      "$ []\n",
      "1 []\n",
      "billion []\n",
      ". []\n"
     ]
    }
   ],
   "source": [
    "for token in doc:\n",
    "    print(token.text, token.vector)  # print first 5 dims of token vector"
   ]
  },
  {
   "cell_type": "code",
   "execution_count": 27,
   "metadata": {},
   "outputs": [
    {
     "name": "stdout",
     "output_type": "stream",
     "text": [
      "Apple ORG\n",
      "U.K. GPE\n",
      "$1 billion MONEY\n"
     ]
    }
   ],
   "source": [
    "for ent in doc.ents:\n",
    "    print(ent.text, ent.label_)"
   ]
  },
  {
   "cell_type": "code",
   "execution_count": 28,
   "metadata": {},
   "outputs": [
    {
     "data": {
      "text/plain": [
       "DocTransformerOutput(all_outputs=[Ragged(data=array([[-0.63482094, -0.233602  ,  0.12225183, ...,  0.57827973,\n",
       "        -0.82340395,  0.57881105],\n",
       "       [-0.4423008 ,  0.42749116, -0.7890119 , ..., -0.6864278 ,\n",
       "        -0.2860822 , -0.6672599 ],\n",
       "       [ 0.2509021 , -0.05691053,  0.30914536, ..., -0.06898394,\n",
       "        -0.85904   ,  0.54899323],\n",
       "       ...,\n",
       "       [-0.28108495,  0.02199169, -0.26524004, ...,  1.0873584 ,\n",
       "        -0.15650374,  0.82378274],\n",
       "       [-0.10340248,  0.66952765, -0.7903226 , ...,  1.1352894 ,\n",
       "        -0.8323419 ,  0.19945687],\n",
       "       [-1.1713653 , -0.65315473, -0.63391745, ..., -0.0796144 ,\n",
       "        -0.09865176, -0.10024022]], shape=(15, 768), dtype=float32), lengths=array([1, 1, 1, 1, 1, 4, 1, 1, 1, 1, 1, 1], dtype=int32), data_shape=(-1, 768), starts_ends=None)], last_layer_only=True)"
      ]
     },
     "execution_count": 28,
     "metadata": {},
     "output_type": "execute_result"
    }
   ],
   "source": [
    "doc._.trf_data"
   ]
  },
  {
   "cell_type": "markdown",
   "metadata": {},
   "source": [
    "## NER"
   ]
  },
  {
   "cell_type": "code",
   "execution_count": 29,
   "metadata": {},
   "outputs": [],
   "source": [
    "import spacy\n",
    "nlp = spacy.load(\"en_core_web_sm\")"
   ]
  },
  {
   "cell_type": "code",
   "execution_count": 30,
   "metadata": {},
   "outputs": [],
   "source": [
    "text = \"Asana is a work management platform that helps organizations orchestrate work, from daily tasks to cross-functional strategic initiatives. Over 139,000 paying customers use Asana to manage everything from product launches to marketing campaigns to organization-wide goal setting. Our platform adds structure to unstructured work, creating clarity, transparency, and accountability to everyone within an organization—individuals, team leads, and executives—so they understand exactly who is doing what, by when. \""
   ]
  },
  {
   "cell_type": "code",
   "execution_count": 31,
   "metadata": {},
   "outputs": [],
   "source": [
    "doc =  nlp(text)"
   ]
  },
  {
   "cell_type": "code",
   "execution_count": 19,
   "metadata": {},
   "outputs": [
    {
     "name": "stdout",
     "output_type": "stream",
     "text": [
      "(Asana, daily, 139,000, Asana)\n"
     ]
    }
   ],
   "source": [
    "# for ent in doc.ents:\n",
    "#     print(ent.text, ent.label_)\n",
    "\n",
    "print(doc.ents)"
   ]
  },
  {
   "cell_type": "markdown",
   "metadata": {},
   "source": [
    "## References"
   ]
  },
  {
   "cell_type": "markdown",
   "metadata": {},
   "source": [
    "- [spaCy](https://spacy.io/usage/spacy-101)\n",
    "- [Asana Inc Form 10-K](https://www.sec.gov/Archives/edgar/data/1477720/000147772025000045/asan-20250131.htm)"
   ]
  }
 ],
 "metadata": {
  "kernelspec": {
   "display_name": "env",
   "language": "python",
   "name": "python3"
  },
  "language_info": {
   "codemirror_mode": {
    "name": "ipython",
    "version": 3
   },
   "file_extension": ".py",
   "mimetype": "text/x-python",
   "name": "python",
   "nbconvert_exporter": "python",
   "pygments_lexer": "ipython3",
   "version": "3.10.12"
  }
 },
 "nbformat": 4,
 "nbformat_minor": 2
}
